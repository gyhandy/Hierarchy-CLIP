{
  "cells": [
    {
      "cell_type": "markdown",
      "metadata": {
        "id": "8vMo9TxNBl9t"
      },
      "source": [
        "# CVPR2023 Hierarchy-CLIP: Improving Zero-shot Generalization and Robustness of Multi-modal Models\n",
        "\n",
        "*Licensed under the Apache License, Version 2.0.*\n",
        "\n",
        "This is a colab for Hierarchy-CLIP\n",
        "\n"
      ]
    },
    {
      "cell_type": "markdown",
      "metadata": {
        "id": "DD02wux82iLo"
      },
      "source": [
        "## 1. Reproducing CLIP zero-shot ImageNet classification performance\n",
        "\n",
        "Replicating the latest OpenAI [Colab](https://github.com/openai/CLIP/blob/main/notebooks/Prompt_Engineering_for_ImageNet.ipynb).\n"
      ]
    },
    {
      "cell_type": "code",
      "execution_count": null,
      "metadata": {
        "id": "ZrHcKMdltCnX"
      },
      "outputs": [],
      "source": [
        "%pylab inline\n",
        "import tensorflow_datasets as tfds\n",
        "import jax\n",
        "import jax.numpy as jnp\n",
        "from tqdm import tqdm\n",
        "import tensorflow as tf\n",
        "import random\n",
        "import os\n",
        "import json\n",
        "from scipy.special import softmax\n",
        "from PIL import Image\n",
        "import pandas as pd\n",
        "from scenic.projects.baselines.clip import model as clip\n",
        "from scenic.projects.baselines.clip import tokenizer as clip_tokenizer"
      ]
    },
    {
      "cell_type": "code",
      "execution_count": null,
      "metadata": {
        "id": "05NWZ85TVscl",
        "cellView": "form"
      },
      "outputs": [],
      "source": [
        "#@title ImageNet classNames\n",
        "# https://github.com/openai/CLIP/blob/main/notebooks/Prompt_Engineering_for_ImageNet.ipynb\n",
        "clip.IMAGENET_CLASSES = ['tench', 'goldfish', 'great white shark', 'tiger shark', 'hammerhead shark', 'electric ray', 'stingray', 'rooster', 'hen', 'ostrich', 'brambling', 'goldfinch', 'house finch', 'junco', 'indigo bunting', 'American robin', 'bulbul', 'jay', 'magpie', 'chickadee', 'American dipper', 'kite (bird of prey)', 'bald eagle', 'vulture', 'great grey owl', 'fire salamander', 'smooth newt', 'newt', 'spotted salamander', 'axolotl', 'American bullfrog', 'tree frog', 'tailed frog', 'loggerhead sea turtle', 'leatherback sea turtle', 'mud turtle', 'terrapin', 'box turtle', 'banded gecko', 'green iguana', 'Carolina anole', 'desert grassland whiptail lizard', 'agama', 'frilled-necked lizard', 'alligator lizard', 'Gila monster', 'European green lizard', 'chameleon', 'Komodo dragon', 'Nile crocodile', 'American alligator', 'triceratops', 'worm snake', 'ring-necked snake', 'eastern hog-nosed snake', 'smooth green snake', 'kingsnake', 'garter snake', 'water snake', 'vine snake', 'night snake', 'boa constrictor', 'African rock python', 'Indian cobra', 'green mamba', 'sea snake', 'Saharan horned viper', 'eastern diamondback rattlesnake', 'sidewinder rattlesnake', 'trilobite', 'harvestman', 'scorpion', 'yellow garden spider', 'barn spider', 'European garden spider', 'southern black widow', 'tarantula', 'wolf spider', 'tick', 'centipede', 'black grouse', 'ptarmigan', 'ruffed grouse', 'prairie grouse', 'peafowl', 'quail', 'partridge', 'african grey parrot', 'macaw', 'sulphur-crested cockatoo', 'lorikeet', 'coucal', 'bee eater', 'hornbill', 'hummingbird', 'jacamar', 'toucan', 'duck', 'red-breasted merganser', 'goose', 'black swan', 'tusker', 'echidna', 'platypus', 'wallaby', 'koala', 'wombat', 'jellyfish', 'sea anemone', 'brain coral', 'flatworm', 'nematode', 'conch', 'snail', 'slug', 'sea slug', 'chiton', 'chambered nautilus', 'Dungeness crab', 'rock crab', 'fiddler crab', 'red king crab', 'American lobster', 'spiny lobster', 'crayfish', 'hermit crab', 'isopod', 'white stork', 'black stork', 'spoonbill', 'flamingo', 'little blue heron', 'great egret', 'bittern bird', 'crane bird', 'limpkin', 'common gallinule', 'American coot', 'bustard', 'ruddy turnstone', 'dunlin', 'common redshank', 'dowitcher', 'oystercatcher', 'pelican', 'king penguin', 'albatross', 'grey whale', 'killer whale', 'dugong', 'sea lion', 'Chihuahua', 'Japanese Chin', 'Maltese', 'Pekingese', 'Shih Tzu', 'King Charles Spaniel', 'Papillon', 'toy terrier', 'Rhodesian Ridgeback', 'Afghan Hound', 'Basset Hound', 'Beagle', 'Bloodhound', 'Bluetick Coonhound', 'Black and Tan Coonhound', 'Treeing Walker Coonhound', 'English foxhound', 'Redbone Coonhound', 'borzoi', 'Irish Wolfhound', 'Italian Greyhound', 'Whippet', 'Ibizan Hound', 'Norwegian Elkhound', 'Otterhound', 'Saluki', 'Scottish Deerhound', 'Weimaraner', 'Staffordshire Bull Terrier', 'American Staffordshire Terrier', 'Bedlington Terrier', 'Border Terrier', 'Kerry Blue Terrier', 'Irish Terrier', 'Norfolk Terrier', 'Norwich Terrier', 'Yorkshire Terrier', 'Wire Fox Terrier', 'Lakeland Terrier', 'Sealyham Terrier', 'Airedale Terrier', 'Cairn Terrier', 'Australian Terrier', 'Dandie Dinmont Terrier', 'Boston Terrier', 'Miniature Schnauzer', 'Giant Schnauzer', 'Standard Schnauzer', 'Scottish Terrier', 'Tibetan Terrier', 'Australian Silky Terrier', 'Soft-coated Wheaten Terrier', 'West Highland White Terrier', 'Lhasa Apso', 'Flat-Coated Retriever', 'Curly-coated Retriever', 'Golden Retriever', 'Labrador Retriever', 'Chesapeake Bay Retriever', 'German Shorthaired Pointer', 'Vizsla', 'English Setter', 'Irish Setter', 'Gordon Setter', 'Brittany dog', 'Clumber Spaniel', 'English Springer Spaniel', 'Welsh Springer Spaniel', 'Cocker Spaniel', 'Sussex Spaniel', 'Irish Water Spaniel', 'Kuvasz', 'Schipperke', 'Groenendael dog', 'Malinois', 'Briard', 'Australian Kelpie', 'Komondor', 'Old English Sheepdog', 'Shetland Sheepdog', 'collie', 'Border Collie', 'Bouvier des Flandres dog', 'Rottweiler', 'German Shepherd Dog', 'Dobermann', 'Miniature Pinscher', 'Greater Swiss Mountain Dog', 'Bernese Mountain Dog', 'Appenzeller Sennenhund', 'Entlebucher Sennenhund', 'Boxer', 'Bullmastiff', 'Tibetan Mastiff', 'French Bulldog', 'Great Dane', 'St. Bernard', 'husky', 'Alaskan Malamute', 'Siberian Husky', 'Dalmatian', 'Affenpinscher', 'Basenji', 'pug', 'Leonberger', 'Newfoundland dog', 'Great Pyrenees dog', 'Samoyed', 'Pomeranian', 'Chow Chow', 'Keeshond', 'brussels griffon', 'Pembroke Welsh Corgi', 'Cardigan Welsh Corgi', 'Toy Poodle', 'Miniature Poodle', 'Standard Poodle', 'Mexican hairless dog (xoloitzcuintli)', 'grey wolf', 'Alaskan tundra wolf', 'red wolf or maned wolf', 'coyote', 'dingo', 'dhole', 'African wild dog', 'hyena', 'red fox', 'kit fox', 'Arctic fox', 'grey fox', 'tabby cat', 'tiger cat', 'Persian cat', 'Siamese cat', 'Egyptian Mau', 'cougar', 'lynx', 'leopard', 'snow leopard', 'jaguar', 'lion', 'tiger', 'cheetah', 'brown bear', 'American black bear', 'polar bear', 'sloth bear', 'mongoose', 'meerkat', 'tiger beetle', 'ladybug', 'ground beetle', 'longhorn beetle', 'leaf beetle', 'dung beetle', 'rhinoceros beetle', 'weevil', 'fly', 'bee', 'ant', 'grasshopper', 'cricket insect', 'stick insect', 'cockroach', 'praying mantis', 'cicada', 'leafhopper', 'lacewing', 'dragonfly', 'damselfly', 'red admiral butterfly', 'ringlet butterfly', 'monarch butterfly', 'small white butterfly', 'sulphur butterfly', 'gossamer-winged butterfly', 'starfish', 'sea urchin', 'sea cucumber', 'cottontail rabbit', 'hare', 'Angora rabbit', 'hamster', 'porcupine', 'fox squirrel', 'marmot', 'beaver', 'guinea pig', 'common sorrel horse', 'zebra', 'pig', 'wild boar', 'warthog', 'hippopotamus', 'ox', 'water buffalo', 'bison', 'ram (adult male sheep)', 'bighorn sheep', 'Alpine ibex', 'hartebeest', 'impala (antelope)', 'gazelle', 'arabian camel', 'llama', 'weasel', 'mink', 'European polecat', 'black-footed ferret', 'otter', 'skunk', 'badger', 'armadillo', 'three-toed sloth', 'orangutan', 'gorilla', 'chimpanzee', 'gibbon', 'siamang', 'guenon', 'patas monkey', 'baboon', 'macaque', 'langur', 'black-and-white colobus', 'proboscis monkey', 'marmoset', 'white-headed capuchin', 'howler monkey', 'titi monkey', \"Geoffroy's spider monkey\", 'common squirrel monkey', 'ring-tailed lemur', 'indri', 'Asian elephant', 'African bush elephant', 'red panda', 'giant panda', 'snoek fish', 'eel', 'silver salmon', 'rock beauty fish', 'clownfish', 'sturgeon', 'gar fish', 'lionfish', 'pufferfish', 'abacus', 'abaya', 'academic gown', 'accordion', 'acoustic guitar', 'aircraft carrier', 'airliner', 'airship', 'altar', 'ambulance', 'amphibious vehicle', 'analog clock', 'apiary', 'apron', 'trash can', 'assault rifle', 'backpack', 'bakery', 'balance beam', 'balloon', 'ballpoint pen', 'Band-Aid', 'banjo', 'baluster / handrail', 'barbell', 'barber chair', 'barbershop', 'barn', 'barometer', 'barrel', 'wheelbarrow', 'baseball', 'basketball', 'bassinet', 'bassoon', 'swimming cap', 'bath towel', 'bathtub', 'station wagon', 'lighthouse', 'beaker', 'military hat (bearskin or shako)', 'beer bottle', 'beer glass', 'bell tower', 'baby bib', 'tandem bicycle', 'bikini', 'ring binder', 'binoculars', 'birdhouse', 'boathouse', 'bobsleigh', 'bolo tie', 'poke bonnet', 'bookcase', 'bookstore', 'bottle cap', 'hunting bow', 'bow tie', 'brass memorial plaque', 'bra', 'breakwater', 'breastplate', 'broom', 'bucket', 'buckle', 'bulletproof vest', 'high-speed train', 'butcher shop', 'taxicab', 'cauldron', 'candle', 'cannon', 'canoe', 'can opener', 'cardigan', 'car mirror', 'carousel', 'tool kit', 'cardboard box / carton', 'car wheel', 'automated teller machine', 'cassette', 'cassette player', 'castle', 'catamaran', 'CD player', 'cello', 'mobile phone', 'chain', 'chain-link fence', 'chain mail', 'chainsaw', 'storage chest', 'chiffonier', 'bell or wind chime', 'china cabinet', 'Christmas stocking', 'church', 'movie theater', 'cleaver', 'cliff dwelling', 'cloak', 'clogs', 'cocktail shaker', 'coffee mug', 'coffeemaker', 'spiral or coil', 'combination lock', 'computer keyboard', 'candy store', 'container ship', 'convertible', 'corkscrew', 'cornet', 'cowboy boot', 'cowboy hat', 'cradle', 'construction crane', 'crash helmet', 'crate', 'infant bed', 'Crock Pot', 'croquet ball', 'crutch', 'cuirass', 'dam', 'desk', 'desktop computer', 'rotary dial telephone', 'diaper', 'digital clock', 'digital watch', 'dining table', 'dishcloth', 'dishwasher', 'disc brake', 'dock', 'dog sled', 'dome', 'doormat', 'drilling rig', 'drum', 'drumstick', 'dumbbell', 'Dutch oven', 'electric fan', 'electric guitar', 'electric locomotive', 'entertainment center', 'envelope', 'espresso machine', 'face powder', 'feather boa', 'filing cabinet', 'fireboat', 'fire truck', 'fire screen', 'flagpole', 'flute', 'folding chair', 'football helmet', 'forklift', 'fountain', 'fountain pen', 'four-poster bed', 'freight car', 'French horn', 'frying pan', 'fur coat', 'garbage truck', 'gas mask or respirator', 'gas pump', 'goblet', 'go-kart', 'golf ball', 'golf cart', 'gondola', 'gong', 'gown', 'grand piano', 'greenhouse', 'radiator grille', 'grocery store', 'guillotine', 'hair clip', 'hair spray', 'half-track', 'hammer', 'hamper', 'hair dryer', 'hand-held computer', 'handkerchief', 'hard disk drive', 'harmonica', 'harp', 'combine harvester', 'hatchet', 'holster', 'home theater', 'honeycomb', 'hook', 'hoop skirt', 'gymnastic horizontal bar', 'horse-drawn vehicle', 'hourglass', 'iPod', 'clothes iron', 'carved pumpkin', 'jeans', 'jeep', 'T-shirt', 'jigsaw puzzle', 'rickshaw', 'joystick', 'kimono', 'knee pad', 'knot', 'lab coat', 'ladle', 'lampshade', 'laptop computer', 'lawn mower', 'lens cap', 'letter opener', 'library', 'lifeboat', 'lighter', 'limousine', 'ocean liner', 'lipstick', 'slip-on shoe', 'lotion', 'music speaker', 'loupe magnifying glass', 'sawmill', 'magnetic compass', 'messenger bag', 'mailbox', 'tights', 'one-piece bathing suit', 'manhole cover', 'maraca', 'marimba', 'mask', 'matchstick', 'maypole', 'maze', 'measuring cup', 'medicine cabinet', 'megalith', 'microphone', 'microwave oven', 'military uniform', 'milk can', 'minibus', 'miniskirt', 'minivan', 'missile', 'mitten', 'mixing bowl', 'mobile home', 'ford model t', 'modem', 'monastery', 'monitor', 'moped', 'mortar and pestle', 'graduation cap', 'mosque', 'mosquito net', 'vespa', 'mountain bike', 'tent', 'computer mouse', 'mousetrap', 'moving van', 'muzzle', 'metal nail', 'neck brace', 'necklace', 'baby pacifier', 'notebook computer', 'obelisk', 'oboe', 'ocarina', 'odometer', 'oil filter', 'pipe organ', 'oscilloscope', 'overskirt', 'bullock cart', 'oxygen mask', 'product packet / packaging', 'paddle', 'paddle wheel', 'padlock', 'paintbrush', 'pajamas', 'palace', 'pan flute', 'paper towel', 'parachute', 'parallel bars', 'park bench', 'parking meter', 'railroad car', 'patio', 'payphone', 'pedestal', 'pencil case', 'pencil sharpener', 'perfume', 'Petri dish', 'photocopier', 'plectrum', 'Pickelhaube', 'picket fence', 'pickup truck', 'pier', 'piggy bank', 'pill bottle', 'pillow', 'ping-pong ball', 'pinwheel', 'pirate ship', 'drink pitcher', 'block plane', 'planetarium', 'plastic bag', 'plate rack', 'farm plow', 'plunger', 'Polaroid camera', 'pole', 'police van', 'poncho', 'pool table', 'soda bottle', 'plant pot', \"potter's wheel\", 'power drill', 'prayer rug', 'printer', 'prison', 'missile', 'projector', 'hockey puck', 'punching bag', 'purse', 'quill', 'quilt', 'race car', 'racket', 'radiator', 'radio', 'radio telescope', 'rain barrel', 'recreational vehicle', 'fishing casting reel', 'reflex camera', 'refrigerator', 'remote control', 'restaurant', 'revolver', 'rifle', 'rocking chair', 'rotisserie', 'eraser', 'rugby ball', 'ruler measuring stick', 'sneaker', 'safe', 'safety pin', 'salt shaker', 'sandal', 'sarong', 'saxophone', 'scabbard', 'weighing scale', 'school bus', 'schooner', 'scoreboard', 'CRT monitor', 'screw', 'screwdriver', 'seat belt', 'sewing machine', 'shield', 'shoe store', 'shoji screen / room divider', 'shopping basket', 'shopping cart', 'shovel', 'shower cap', 'shower curtain', 'ski', 'balaclava ski mask', 'sleeping bag', 'slide rule', 'sliding door', 'slot machine', 'snorkel', 'snowmobile', 'snowplow', 'soap dispenser', 'soccer ball', 'sock', 'solar thermal collector', 'sombrero', 'soup bowl', 'keyboard space bar', 'space heater', 'space shuttle', 'spatula', 'motorboat', 'spider web', 'spindle', 'sports car', 'spotlight', 'stage', 'steam locomotive', 'through arch bridge', 'steel drum', 'stethoscope', 'scarf', 'stone wall', 'stopwatch', 'stove', 'strainer', 'tram', 'stretcher', 'couch', 'stupa', 'submarine', 'suit', 'sundial', 'sunglasses', 'sunglasses', 'sunscreen', 'suspension bridge', 'mop', 'sweatshirt', 'swim trunks / shorts', 'swing', 'electrical switch', 'syringe', 'table lamp', 'tank', 'tape player', 'teapot', 'teddy bear', 'television', 'tennis ball', 'thatched roof', 'front curtain', 'thimble', 'threshing machine', 'throne', 'tile roof', 'toaster', 'tobacco shop', 'toilet seat', 'torch', 'totem pole', 'tow truck', 'toy store', 'tractor', 'semi-trailer truck', 'tray', 'trench coat', 'tricycle', 'trimaran', 'tripod', 'triumphal arch', 'trolleybus', 'trombone', 'hot tub', 'turnstile', 'typewriter keyboard', 'umbrella', 'unicycle', 'upright piano', 'vacuum cleaner', 'vase', 'vaulted or arched ceiling', 'velvet fabric', 'vending machine', 'vestment', 'viaduct', 'violin', 'volleyball', 'waffle iron', 'wall clock', 'wallet', 'wardrobe', 'military aircraft', 'sink', 'washing machine', 'water bottle', 'water jug', 'water tower', 'whiskey jug', 'whistle', 'hair wig', 'window screen', 'window shade', 'Windsor tie', 'wine bottle', 'airplane wing', 'wok', 'wooden spoon', 'wool', 'split-rail fence', 'shipwreck', 'sailboat', 'yurt', 'website', 'comic book', 'crossword', 'traffic or street sign', 'traffic light', 'dust jacket', 'menu', 'plate', 'guacamole', 'consomme', 'hot pot', 'trifle', 'ice cream', 'popsicle', 'baguette', 'bagel', 'pretzel', 'cheeseburger', 'hot dog', 'mashed potatoes', 'cabbage', 'broccoli', 'cauliflower', 'zucchini', 'spaghetti squash', 'acorn squash', 'butternut squash', 'cucumber', 'artichoke', 'bell pepper', 'cardoon', 'mushroom', 'Granny Smith apple', 'strawberry', 'orange', 'lemon', 'fig', 'pineapple', 'banana', 'jackfruit', 'cherimoya (custard apple)', 'pomegranate', 'hay', 'carbonara', 'chocolate syrup', 'dough', 'meatloaf', 'pizza', 'pot pie', 'burrito', 'red wine', 'espresso', 'tea cup', 'eggnog', 'mountain', 'bubble', 'cliff', 'coral reef', 'geyser', 'lakeshore', 'promontory', 'sandbar', 'beach', 'valley', 'volcano', 'baseball player', 'bridegroom', 'scuba diver', 'rapeseed', 'daisy', \"yellow lady's slipper\", 'corn', 'acorn', 'rose hip', 'horse chestnut seed', 'coral fungus', 'agaric', 'gyromitra', 'stinkhorn mushroom', 'earth star fungus', 'hen of the woods mushroom', 'bolete', 'corn cob', 'toilet paper']"
      ]
    },
    {
      "cell_type": "code",
      "execution_count": null,
      "metadata": {
        "id": "JIzYXXxzTAzZ"
      },
      "outputs": [],
      "source": [
        "model_name = 'vit_b16' # we could change different backbone\n",
        "\n",
        "model = clip.MODELS[model_name]()\n",
        "vars = clip.load_model_vars(model_name)\n",
        "\n",
        "encode_text = jax.jit(lambda texts: model.apply(vars, texts, method=model.encode_text))\n",
        "encode_image = jax.jit(lambda x: model.apply(vars, x, method=model.encode_image))\n",
        "\n",
        "tokenize_fn = clip_tokenizer.build_tokenizer()"
      ]
    },
    {
      "cell_type": "code",
      "execution_count": null,
      "metadata": {
        "id": "lRjGzv6sosYZ"
      },
      "outputs": [],
      "source": [
        "def permute_words(text):\n",
        "  words = text.split(' ')\n",
        "  random.shuffle(words)\n",
        "  return ' '.join(words)\n",
        "\n",
        "def zeroshot_classifier(classnames, templates, permute=False):\n",
        "  zeroshot_weights = []\n",
        "  permute_fn = permute_words if permute else lambda x: x\n",
        "  for classname in tqdm(classnames):\n",
        "    texts = [permute_fn(template.format(classname)) for template in templates]\n",
        "    class_embeddings = encode_text(tokenize_fn(texts))\n",
        "    class_embedding = class_embeddings.mean(0)\n",
        "    class_embedding /= jnp.linalg.norm(class_embedding)\n",
        "    zeroshot_weights.append(class_embedding)\n",
        "  return jnp.stack(zeroshot_weights, axis=1)\n"
      ]
    },
    {
      "cell_type": "code",
      "execution_count": null,
      "metadata": {
        "id": "nw6OUXuMpQ3Q"
      },
      "outputs": [],
      "source": [
        "# Readout weights with prompt engineering\n",
        "weights_prompteng = zeroshot_classifier(clip.IMAGENET_CLASSES, clip.PROMPTS)\n",
        "\n",
        "# Readout weights with modified ImageNet class names only\n",
        "weights_name = zeroshot_classifier(clip.IMAGENET_CLASSES, ['{}'])\n"
      ]
    },
    {
      "cell_type": "code",
      "execution_count": null,
      "metadata": {
        "id": "HLxQkmIIaeH2"
      },
      "outputs": [],
      "source": [
        "def preprocess(batch, size=224):\n",
        "  batch = tf.image.convert_image_dtype(batch, dtype=tf.float32)\n",
        "  return central_crop(resize_small(batch, size), (size, size))\n",
        "\n",
        "def central_crop(image, crop_size):\n",
        "    '''\n",
        "    image\n",
        "    crop_size: (h, w)\n",
        "    '''\n",
        "    h, w = crop_size[0], crop_size[1]\n",
        "    dy = (tf.shape(image)[0] - h) // 2\n",
        "    dx = (tf.shape(image)[1] - w) // 2\n",
        "    return tf.image.crop_to_bounding_box(image, dy, dx, h, w)\n",
        "\n",
        "def resize_small(image, smaller_size, method=\"area\", antialias=True):\n",
        "    '''\n",
        "    image\n",
        "    smaller_size: an integer, that represents a new size of the smaller side of\n",
        "      an input image.\n",
        "    '''\n",
        "    h, w = tf.shape(image)[0], tf.shape(image)[1]\n",
        "\n",
        "    # Figure out the necessary h/w.\n",
        "    ratio = (\n",
        "        tf.cast(smaller_size, tf.float32) /\n",
        "        tf.cast(tf.minimum(h, w), tf.float32))\n",
        "    h = tf.cast(tf.round(tf.cast(h, tf.float32) * ratio), tf.int32)\n",
        "    w = tf.cast(tf.round(tf.cast(w, tf.float32) * ratio), tf.int32)\n",
        "\n",
        "    dtype = image.dtype\n",
        "    image = tf.image.resize(image, (h, w), method, antialias)\n",
        "    return tf.cast(image, dtype)\n",
        "\n",
        "\n",
        "def normalize(img):\n",
        "  return (img - clip.IMAGE_MEAN) / clip.IMAGE_STD\n",
        "  \n",
        "def unnormalize(x):\n",
        "  return x * clip.IMAGE_STD + clip.IMAGE_MEAN"
      ]
    },
    {
      "cell_type": "code",
      "execution_count": null,
      "metadata": {
        "id": "VZx-2xM2uflF"
      },
      "outputs": [],
      "source": [
        "def load_dataset_from(data_dir='gs://ub-data/multimodal/imagenet2012', dataset='imagenet2012', split='validation', batch_size=1024):\n",
        "  # ds = tfds.load(dataset, split=split, data_dir=data_dir)\n",
        "  ds = tfds.builder_from_directory(data_dir)\n",
        "  ds = ds.as_dataset(split='validation')\n",
        "  def _preprocess(d):\n",
        "    d['image'] = normalize(preprocess(d['image']))\n",
        "    return d\n",
        "  def _prepare(d):\n",
        "    return jax.tree_map(lambda x: x._numpy(), d)\n",
        "  batched_dataset = ds.map(_preprocess).batch(batch_size)\n",
        "  batched_dataset = map(_prepare, batched_dataset)\n",
        "  return batched_dataset\n",
        "\n",
        "def load_dataset(dataset='imagenet2012', split='validation', batch_size=1024):\n",
        "  ds = tfds.load(dataset, split=split)\n",
        "  def _preprocess(d):\n",
        "    d['image'] = normalize(preprocess(d['image']))\n",
        "    return d\n",
        "  def _prepare(d):\n",
        "    return jax.tree_map(lambda x: x._numpy(), d)\n",
        "  batched_dataset = ds.map(_preprocess).batch(batch_size)\n",
        "  batched_dataset = map(_prepare, batched_dataset)\n",
        "  return batched_dataset"
      ]
    },
    {
      "cell_type": "code",
      "execution_count": null,
      "metadata": {
        "id": "nlfoPT44NafG"
      },
      "outputs": [],
      "source": [
        "def compute_image_embeddings(dset, norm_image=True):\n",
        "  embeddings = []\n",
        "  labels = []\n",
        "  for batch in tqdm(dset):\n",
        "    image_embedding = encode_image(batch['image'])\n",
        "    if norm_image:\n",
        "      image_embedding /= jnp.linalg.norm(image_embedding)\n",
        "    embeddings.append(image_embedding)\n",
        "    labels.append(batch['label'])\n",
        "  return jnp.vstack(embeddings), jnp.hstack(labels)\n",
        "  \n",
        "def compute_accuracy(logits, labels):\n",
        "  top_probs, top_labels = jax.lax.top_k(logits, 5)\n",
        "  top1 = 100 * jnp.mean(top_labels[:, 0] == labels)\n",
        "  top5 = 100 * jnp.sum(top_labels == labels[:, None]) / labels.shape[0]\n",
        "  return top1, top5"
      ]
    },
    {
      "cell_type": "code",
      "execution_count": null,
      "metadata": {
        "id": "7IRsBlmgN0nz"
      },
      "outputs": [],
      "source": [
        "# dset = load_dataset('imagenet2012')\n",
        "dset = load_dataset_from(data_dir='gs://ub-data/multimodal/imagenet2012', dataset='imagenet2012', split='validation')\n",
        "embeddings, labels = compute_image_embeddings(dset)"
      ]
    },
    {
      "cell_type": "code",
      "execution_count": null,
      "metadata": {
        "id": "bV7jIm8sFjHD"
      },
      "outputs": [],
      "source": [
        "# More accurate and consistent result\n",
        "logits_prompteng = np.matmul(embeddings, weights_prompteng)\n",
        "logits_name = np.matmul(embeddings, weights_name)\n",
        "top1_prompt, top5_prompt = compute_accuracy(logits_prompteng, labels)\n",
        "top1_name, top5_name = compute_accuracy(logits_name, labels)\n",
        "print(f'Prompt Engineering: top1={top1_prompt:.2f}%, top5={top5_prompt:.2f}%')\n",
        "print(f'Class Names: top1={top1_name:.2f}%, top5={top5_name:.2f}%')"
      ]
    },
    {
      "cell_type": "markdown",
      "metadata": {
        "id": "SLeqlvKV3ZpT"
      },
      "source": [
        "## 2. Build hierarchy from WordNet\n",
        "\n",
        "The wordnet hierarchy is based on Github repo: https://github.com/niharikajainn/imagenet-ancestors-descendants\n"
      ]
    },
    {
      "cell_type": "markdown",
      "metadata": {
        "id": "xMc8VFmpzH8p"
      },
      "source": [
        "### WordNet parse"
      ]
    },
    {
      "cell_type": "code",
      "source": [
        "root_path = '/home/yunhaoge/PycharmProjects/h-clip/yunhao-intermediate-results' # VM yunhao"
      ],
      "metadata": {
        "id": "RepSntjHI8Er"
      },
      "execution_count": null,
      "outputs": []
    },
    {
      "cell_type": "code",
      "execution_count": null,
      "metadata": {
        "id": "GI8y4W79zH8p"
      },
      "outputs": [],
      "source": [
        "words_map = {}\n",
        "child_map = {}\n",
        "parent_map = {}\n",
        "gloss_map = {} # description\n",
        "# BEGIN GOOGLE-INTERNAL \n",
        "words_path = os.path.join(root_path, \"imagenet-ancestors-descendants\", \"words.txt\")\n",
        "gloss_path = os.path.join(root_path, \"imagenet-ancestors-descendants\", \"gloss.txt\")\n",
        "child_map_path = os.path.join(root_path, \"imagenet-ancestors-descendants\", \"is_a.txt\")\n",
        "imagenet_label_to_wordnet_file = os.path.join(root_path,\"imagenet_label_to_wordnet_synset.txt\")\n",
        "# END GOOGLE-INTERNAL\n",
        "\n",
        "blank = ' '\n",
        "comma_blank = ', '"
      ]
    },
    {
      "cell_type": "code",
      "execution_count": null,
      "metadata": {
        "id": "gSGZoG3CzH8p"
      },
      "outputs": [],
      "source": [
        "#obtain wordnet_id mappings for all words\n",
        "with tf.io.gfile.GFile(words_path, mode='r') as f:\n",
        "\tfor line in f:\n",
        "\t\tline_split = line.split() # use blank \" \" to split\n",
        "\t\twnid = line_split[0] # e.g., 'n03200357'\n",
        "\t\twords = line_split[1:] # e.g., ['electric,', 'electric', 'automobile,', 'electric', 'car'],\n",
        "\t\twords_map[wnid] = words\n",
        "f.close()"
      ]
    },
    {
      "cell_type": "code",
      "execution_count": null,
      "metadata": {
        "id": "KAeBPSSxzH8q"
      },
      "outputs": [],
      "source": [
        "#obtain wordnet_id mappings for all word description\n",
        "with tf.io.gfile.GFile(gloss_path, mode='r') as f:\n",
        "\tfor line in f:\n",
        "\t\tline_split = line.split()\n",
        "\t\twnid = line_split[0]\n",
        "\t\tgloss = blank.join(line_split[1:])\n",
        "\t\tgloss_map[wnid] = gloss\n",
        "f.close()"
      ]
    },
    {
      "cell_type": "code",
      "execution_count": null,
      "metadata": {
        "id": "awkQS7mnzH8q"
      },
      "outputs": [],
      "source": [
        "#obtain wordnet_id mappings for all parents-children\n",
        "with tf.io.gfile.GFile(child_map_path, mode='r') as f:\n",
        "\tfor line in f:\n",
        "\t\tparent, child = line.split()\n",
        "\t\tparent_map[child] = parent\n",
        "\t\tif parent not in child_map:\n",
        "\t\t\tchild_map[parent] = [child]\n",
        "\t\telse:\n",
        "\t\t\tchild_map[parent].append(child)\n",
        "f.close()\t"
      ]
    },
    {
      "cell_type": "code",
      "execution_count": null,
      "metadata": {
        "id": "zDv2CRlbzH8q"
      },
      "outputs": [],
      "source": [
        "# find details given wordnet_id\n",
        "category = 'n02690373' #'n02084071' is dog\n",
        "descendants = []\n",
        "ancestors = []\n",
        "# find Descendants and Ancestors\n",
        "print(words_map[category])\n",
        "print(gloss_map[category]+\"\\n\")\n",
        "#list all children\n",
        "print(\"Descendants:\\n\")\n",
        "if category in child_map:\n",
        "  search = [child for child in child_map[category]]\n",
        "while search: # go over all children (BFS)\n",
        "  node = search.pop()\n",
        "  print(\"\\t\"+ blank.join(words_map[node])+\"\\n\")\n",
        "  descendants.append(blank.join(words_map[node])) # keep all descendant\n",
        "  if node in child_map: #has children\n",
        "    [search.append(child) for child in child_map[node]]\n",
        "\n",
        "#list all parents\n",
        "print(\"Ancestors:\\n\")\n",
        "if category in parent_map:\n",
        "  node = parent_map[category] # only one parent class\n",
        "else:\n",
        "  node = category\n",
        "while node in parent_map: # one way go up\n",
        "  print(\"\\t\"+ blank.join(words_map[node])+\"\\n\")\n",
        "  ancestors.append(blank.join(words_map[node])) # keep all ancestor\n",
        "  node = parent_map[node]\n",
        "print(\"finish\")"
      ]
    },
    {
      "cell_type": "code",
      "execution_count": null,
      "metadata": {
        "id": "gReUKpVSzH8r"
      },
      "outputs": [],
      "source": [
        "# get imagenet_id: wordnet_id mapping. e.g., '0': 'n01440764'\n",
        "index_wdid = {}\n",
        "with tf.io.gfile.GFile(imagenet_label_to_wordnet_file, mode='r') as f:\n",
        "  for line in f:\n",
        "    if \"{'id'\" in line:\n",
        "      index_wdid[line.split(\": {'\")[0].split(\"{\")[-1].split(\" \")[-1]] = 'n' + line.split(\"-n\")[0].split(\"'\")[-1]      # {0: {'id': '01440764-n',"
      ]
    },
    {
      "cell_type": "markdown",
      "metadata": {
        "id": "wJ1xkt89qSSk"
      },
      "source": [
        "build hierarchy"
      ]
    },
    {
      "cell_type": "code",
      "execution_count": null,
      "metadata": {
        "id": "SRMCK8HZzH8r"
      },
      "outputs": [],
      "source": [
        "# find ancestor, descendants and children for each class, may takes minites\n",
        "an_des_dict_json = {}\n",
        "for index in range(len(clip.IMAGENET_CLASSES)): # for 1000 classes\n",
        "  category = index_wdid[str(index)]\n",
        "  an_des_dict_json[str(index)] = {}\n",
        "  descendants = []\n",
        "  ancestors = []\n",
        "  children = []\n",
        "  # find Descendants and Ancestors\n",
        "  #list all children\n",
        "  if category in child_map:\n",
        "    search = [child for child in child_map[category]] # here is only the child\n",
        "    children = [blank.join(words_map[ele]) for ele in search]\n",
        "  while search: # go over all children BFS priority queue\n",
        "    node = search.pop()\n",
        "    descendants.append(blank.join(words_map[node])) # keep all descendant\n",
        "    if node in child_map: #has children\n",
        "      [search.append(child) for child in child_map[node]]\n",
        "\n",
        "  #list all parents\n",
        "  node = parent_map[category] if category in parent_map else category\n",
        "  while node in parent_map: # one way go up\n",
        "    ancestors.append(blank.join(words_map[node])) # keep all ancestor\n",
        "    node = parent_map[node]\n",
        "  \n",
        "  # save\n",
        "  an_des_dict_json[str(index)][\"wdid\"] = category\n",
        "  an_des_dict_json[str(index)][\"words_map\"] = blank.join(words_map[category])\n",
        "  an_des_dict_json[str(index)][\"clip_words_map\"] = clip.IMAGENET_CLASSES[index]\n",
        "  an_des_dict_json[str(index)][\"ancestors\"] = ancestors\n",
        "  an_des_dict_json[str(index)][\"descendants\"] = descendants\n",
        "  an_des_dict_json[str(index)][\"children\"] = children"
      ]
    },
    {
      "cell_type": "markdown",
      "metadata": {
        "id": "FJtim-_cJpVs"
      },
      "source": [
        "### Utility functions for finding descendants and ancestors"
      ]
    },
    {
      "cell_type": "code",
      "execution_count": null,
      "metadata": {
        "id": "FcHqCy_PAP3s"
      },
      "outputs": [],
      "source": [
        "# TODO(yunhaoge) Add examples for using the functions\n",
        "\n",
        "def bottom_up_hierarchy(max_depth_ancestor=0, max_depth_descendant=1, use_children=True):\n",
        "  \"\"\"Obtain the class list by considering hierarchy\n",
        "    here consisder only descendent because max_depth_ancestor=0\n",
        "  \"\"\"\n",
        "  # Consider ancedescendant into clip zero-shot \n",
        "  class_an_des_mapping = [] # start index of each imagenet class, used for following aggregation\n",
        "  imagenet_classes_an_des = []\n",
        "  class_an_des_mapping_list = [] # index details of each imagenet class\n",
        "  i = 0\n",
        "  for imagenet_idx, classname in enumerate(clip.IMAGENET_CLASSES):\n",
        "    class_an_des_mapping.append(i) \n",
        "    imagenet_classes_an_des.append(classname) # add original class name\n",
        "    class_an_des_list = [] # relevant id for specific class\n",
        "    i += 1 # add index first\n",
        "    class_an_des_list.append(i)\n",
        "    node_ancestors = an_des_dict_json[str(imagenet_idx)][\"ancestors\"]\n",
        "    if use_children: # consider only children\n",
        "      node_descendants = an_des_dict_json[str(imagenet_idx)][\"children\"]\n",
        "    else: \n",
        "      node_descendants = an_des_dict_json[str(imagenet_idx)][\"descendants\"]\n",
        "    \n",
        "    for an_idx, ancestor in enumerate(node_ancestors): # select ancestors\n",
        "      if an_idx < max_depth_ancestor:\n",
        "        if comma_blank in ancestor: # contains synonym, more than one, keep only one\n",
        "          imagenet_classes_an_des.append(ancestor.split(comma_blank)[0])\n",
        "          i += 1\n",
        "          class_an_des_list.append(i)\n",
        "        else:\n",
        "          imagenet_classes_an_des.append(ancestor)\n",
        "          i += 1\n",
        "          class_an_des_list.append(i)\n",
        "    for des_idx, descentant in enumerate(node_descendants): # select descendants\n",
        "      if des_idx < max_depth_descendant:\n",
        "        if comma_blank in descentant: # contains synonym, more than one, keep only one\n",
        "          imagenet_classes_an_des.append(descentant.split(comma_blank)[0])\n",
        "          i += 1\n",
        "          class_an_des_list.append(i)\n",
        "        else:\n",
        "          imagenet_classes_an_des.append(descentant)\n",
        "          i += 1\n",
        "          class_an_des_list.append(i)\n",
        "    class_an_des_mapping_list.append(class_an_des_list)\n",
        "  return imagenet_classes_an_des, class_an_des_mapping, class_an_des_mapping_list"
      ]
    },
    {
      "cell_type": "code",
      "execution_count": null,
      "metadata": {
        "id": "RJxTyrVFt2_k"
      },
      "outputs": [],
      "source": [
        "def top_down_hierarchy(interest_case, clip_templete, use_LCA = True, use_ancestor = False):\n",
        "  \"\"\"Obtain the word list by adding LCA.\"\"\"\n",
        "  # interest_case\n",
        "  logits_ori_all = []\n",
        "  for idx, interest_case_ele in enumerate(tqdm(interest_case)):\n",
        "    # original word embedding\n",
        "    word_list_ori = np.array(clip.IMAGENET_CLASSES)[np.array(interest_case_ele)].tolist()\n",
        "    if use_LCA: # add LCA/A\n",
        "      if use_ancestor: # use Ancestor\n",
        "        word_list =  [word + blank + A_all[idx] for word in word_list_ori]\n",
        "      else: # use LCA\n",
        "        word_list =  [word + blank + LCA_all[idx] for word in word_list_ori]\n",
        "    else:\n",
        "      word_list =  [word for word in word_list_ori]\n",
        "  return word_list"
      ]
    },
    {
      "cell_type": "code",
      "execution_count": null,
      "metadata": {
        "id": "Vnd06rNSpckx"
      },
      "outputs": [],
      "source": [
        "# fine the LCA for each image top 5\n",
        "def find_LCA(top5_ancestor): # general\n",
        "  \"\"\"Obtain the Lowest comman ancestor of top 5 classes.\n",
        "\n",
        "  Args:\n",
        "      top5_ancestor: List of the ancestors for each candidate class\n",
        "  Returns:\n",
        "      LCA: Str, lowest comman ancestor\n",
        "  \"\"\"\n",
        "  LCA = 'physical entity'\n",
        "  # while (1) still have ancestor\n",
        "  while min([len(ele) for ele in top5_ancestor]) > 0 : \n",
        "    # find the highest for each class in topk\n",
        "    current_roots = [topk_ancestor.pop() for topk_ancestor in top5_ancestor]\n",
        "    current_roots_freq = Counter(current_roots)\n",
        "    current_roots_freq = sorted(current_roots_freq.items(), key=lambda x: x[1], reverse=True) # become a list e.g.,[('ee', 2), ('ww', 1), ('cc', 1)]\n",
        "    majority, majority_freq = current_roots_freq[0]\n",
        "    if majority_freq == 5:\n",
        "      LCA = majority if comma_blank not in majority else majority.split(comma_blank)[0]\n",
        "  return LCA"
      ]
    },
    {
      "cell_type": "markdown",
      "source": [
        "## Uncertainty Estimation"
      ],
      "metadata": {
        "id": "uMul_5Icp7QL"
      }
    },
    {
      "cell_type": "code",
      "source": [
        "# with children\n",
        "# hierarchy ImageNet class work on same h for each class\n",
        "max_depth_ancestor = 0 # here only consider descendent\n",
        "max_depth_children = 10 # could change\n",
        "imagenet_bottom_up_first_index_list = []\n",
        "imagenet_bottom_up_all_classes = []\n",
        "imagenet_bottom_up_mapping_index_list = [] # add list for analysis\n",
        "i = 0\n",
        "for imagenet_idx, classname in enumerate(clip.IMAGENET_CLASSES):\n",
        "  imagenet_bottom_up_first_index_list.append(i) # index of each imagenet class\n",
        "  imagenet_bottom_up_all_classes.append(classname) # add original class name\n",
        "  class_an_des_list = [] # relevant id for specific class\n",
        "  i += 1 # add index first\n",
        "  class_an_des_list.append(i)\n",
        "  node_ancestors = an_des_dict_json[str(imagenet_idx)][\"ancestors\"]\n",
        "  node_children = an_des_dict_json[str(imagenet_idx)][\"children\"]\n",
        "  \n",
        "  for an_idx, ancestor in enumerate(node_ancestors): # select ancestors\n",
        "    if an_idx < max_depth_ancestor:\n",
        "      if \", \" in ancestor: # contains synonym, more than one, keep only one\n",
        "        imagenet_bottom_up_all_classes.append(ancestor.split(\", \")[0])\n",
        "        i += 1\n",
        "        class_an_des_list.append(i)\n",
        "      else:\n",
        "        imagenet_bottom_up_all_classes.append(ancestor)\n",
        "        i += 1\n",
        "        class_an_des_list.append(i)\n",
        "  for des_idx, descentant in enumerate(node_children): # select descendants\n",
        "    if des_idx < max_depth_children:\n",
        "      if \", \" in descentant: # contains synonym, more than one, keep only one\n",
        "        imagenet_bottom_up_all_classes.append(descentant.split(\", \")[0])\n",
        "        i += 1\n",
        "        class_an_des_list.append(i)\n",
        "      else:\n",
        "        imagenet_bottom_up_all_classes.append(descentant)\n",
        "        i += 1\n",
        "        class_an_des_list.append(i)\n",
        "  imagenet_bottom_up_mapping_index_list.append(class_an_des_list)"
      ],
      "metadata": {
        "id": "5Rk2yUw-EfoT"
      },
      "execution_count": null,
      "outputs": []
    },
    {
      "cell_type": "markdown",
      "source": [
        "len(imagenet_bottom_up_mapping_index_list) = 1000, each element is the source node and its children "
      ],
      "metadata": {
        "id": "AWKb_k1Cpx67"
      }
    },
    {
      "cell_type": "code",
      "source": [
        "imagenet_classes_an_des, class_an_des_mapping, class_an_des_mapping_list = bottom_up_hierarchy(max_depth_descendant=10)\n",
        "# len(imagenet_classes_an_des) = 1971. word\n",
        "# len(class_an_des_mapping) = 1000. starting index of each class among 1971\n",
        "# len(class_an_des_mapping_list) = 1000. "
      ],
      "metadata": {
        "id": "dhfhjVBqEVs6"
      },
      "execution_count": null,
      "outputs": []
    },
    {
      "cell_type": "code",
      "source": [
        "def compute_accuracy_details(logits, labels):\n",
        "  top_probs, top_labels = jax.lax.top_k(logits, 5)\n",
        "  top1 = 100 * jnp.mean(top_labels[:, 0] == labels)\n",
        "  top5 = 100 * jnp.sum(top_labels == labels[:, None]) / labels.shape[0]\n",
        "  return top1, top5, top_probs, top_labels"
      ],
      "metadata": {
        "id": "cJUHp35n4r8G"
      },
      "execution_count": null,
      "outputs": []
    },
    {
      "cell_type": "code",
      "source": [
        "top1_prompt, top5_prompt, top5_prompt_probs, top5_prompt_labels = compute_accuracy_details(logits_prompteng, labels)\n",
        "top1_name, top5_name, top5_name_probs, top5_name_labels = compute_accuracy_details(logits_name, labels)\n",
        "print(f'Prompt Engineering: top1={top1_prompt_h:.2f}%, top5={top5_prompt:.2f}%')\n",
        "print(f'Class Names: top1={top1_name:.2f}%, top5={top5_name:.2f}%')"
      ],
      "metadata": {
        "id": "WU8H2Ov34qjx"
      },
      "execution_count": null,
      "outputs": []
    },
    {
      "cell_type": "code",
      "source": [
        "# continuous uncertatinty value calculation\n",
        "def continuous_uncertainty_estimation(prompts=clip.PROMPTS, name_prediction=top5_name_labels[:, 0]):\n",
        "  \"\"\"obtain continuous confidence score for each image\"\"\"\n",
        "\n",
        "  # prompts decision\n",
        "  prompts_slice_log = []\n",
        "  for sample_id in range(len(prompts)): # for each different prompts\n",
        "    prompteng_slice = zeroshot_classifier(clip.IMAGENET_CLASSES, [prompts[sample_id]]) #select one each time\n",
        "    logits_slice = np.matmul(embeddings, prompteng_slice) # compute the logits\n",
        "    probs_slice = np.array(jax.nn.softmax(logits_slice, axis=-1))\n",
        "    preds_slice = jnp.argmax(probs_slice, axis=-1)\n",
        "    prompts_slice_log.append(preds_slice)\n",
        "\n",
        "  prompts_slice_log_array = np.array(prompts_slice_log) # (len(prompts), 50000)\n",
        "\n",
        "  # compare with no-prompts and use consistency to get the confidence score\n",
        "  consistency_with_nonpromp = prompts_slice_log_array == name_prediction\n",
        "  consistency_with_nonpromp_log = sum(consistency_with_nonpromp, axis=0)\n",
        "  confidence_sort_index = numpy.argsort(consistency_with_nonpromp_log) # form small to large\n",
        "  \n",
        "  return prompts_slice_log_array, consistency_with_nonpromp_log, confidence_sort_index"
      ],
      "metadata": {
        "id": "6_1-Kd1oGtEA"
      },
      "execution_count": null,
      "outputs": []
    },
    {
      "cell_type": "code",
      "source": [
        "prompts_slice_log_array, consistency_with_nonpromp_log, confidence_sort_index = continuous_uncertainty_estimation()\n",
        "\n",
        "# Calculate accuracy of the low confidence set\n",
        "low_confident_set_size = 10000\n",
        "low_confident_set_index = confidence_sort_index[:low_confident_set_size]\n",
        "# Computed accuracy for the low confidence set\n",
        "acc = np.mean(name_prediction[np.array(low_confident_set_index)] == labels[low_confident_set_index])\n",
        "acc"
      ],
      "metadata": {
        "id": "ylNICVcG5pR0"
      },
      "execution_count": null,
      "outputs": []
    },
    {
      "cell_type": "markdown",
      "source": [
        "## Hierarchy-CLIP"
      ],
      "metadata": {
        "id": "stxXR-Leus3E"
      }
    },
    {
      "cell_type": "markdown",
      "source": [
        "### Continuous Solution"
      ],
      "metadata": {
        "id": "vn6hvP-7fYbf"
      }
    },
    {
      "cell_type": "code",
      "source": [
        "an_des_dict = an_des_dict_json"
      ],
      "metadata": {
        "id": "tPz9nJZmCC8H"
      },
      "execution_count": null,
      "outputs": []
    },
    {
      "cell_type": "code",
      "source": [
        "def zeroshot_classifier_hierarchy(classnames, templates, permute=False):\n",
        "  zeroshot_weights = []\n",
        "  permute_fn = permute_words if permute else lambda x: x\n",
        "  for classname in classnames:\n",
        "    texts = [permute_fn(template.format(classname.split('|')[0]) + template.format(classname.split('|')[1])) for template in templates]\n",
        "    class_embeddings = encode_text(tokenize_fn(texts))\n",
        "    class_embedding = class_embeddings.mean(0)\n",
        "    class_embedding /= jnp.linalg.norm(class_embedding)\n",
        "    zeroshot_weights.append(class_embedding)\n",
        "  return jnp.stack(zeroshot_weights, axis=1)"
      ],
      "metadata": {
        "id": "ugX9IXHvCEaz"
      },
      "execution_count": null,
      "outputs": []
    },
    {
      "cell_type": "code",
      "source": [
        "def compute_accuracy_rerank(logits, ori_labels, labels):\n",
        "  \"\"\"based on logits, reorder the ori_top5_labels and compare with true labels\"\"\"\n",
        "\n",
        "  top_probs, top_labels_index = jax.lax.top_k(logits, 1)\n",
        "  top_labels = np.array([ele[top_labels_index[idx]] for idx, ele in enumerate(tqdm(ori_labels))])\n",
        "  top1 = 100 * jnp.mean(top_labels[:, 0] == labels)\n",
        "  return top1, top_probs, top_labels"
      ],
      "metadata": {
        "id": "vpu-BSCfVWNU"
      },
      "execution_count": null,
      "outputs": []
    },
    {
      "cell_type": "code",
      "source": [
        "# Bottom-up and top-down augmented inference\n",
        "\n",
        "from collections import Counter\n",
        "\n",
        "an_des_dict = an_des_dict_json # simplified wordnet\n",
        "fill_empty_parent = ''\n",
        "unstable_num = 1000\n",
        "# stable set and unstable set\n",
        "unstable_index = entropy_sort_index[:unstable_num] # number of rejected/unstable images\n",
        "stable_index = np.array(list(set(range(len(labels))) - set(unstable_index.tolist()))) # stable, np.array\n",
        "\n",
        "# 1. accuracy of the stable samples:\n",
        "# Computed accuracy\n",
        "acc_stable = np.mean(name_prediction[stable_index] == labels[stable_index])\n",
        "\n",
        "acc_unstable_ori = np.mean(name_prediction[unstable_index] == labels[unstable_index])\n",
        "\n",
        "\n",
        "# 2. accuracy of the unstable samples: use our hierarchy\n",
        "# analysis top 5 in all different cases of baseline\n",
        "baseline_top5 = top5_name_labels[unstable_index]\n",
        "baseline_top5_probs = top5_name_probs[unstable_index]\n",
        "diff_image_embeddings = embeddings[unstable_index]\n",
        "unstable_id_gt_labels = labels[unstable_index]\n",
        "\n",
        "unstable_case = top5_name_labels[unstable_index]   # original top-5 prediction\n",
        "unstable_case_label = labels[unstable_index] # top-5 GT labels\n",
        "\n",
        "# [Top-5 Ancestor collection] calculate Ancestor from simple wordnet for unstable cases\n",
        "A_all = []\n",
        "for example in unstable_case: # for each unstable image\n",
        "  # ancestor of top 5\n",
        "  top5_ancestor = []\n",
        "  # top5_ancestor_raw = []\n",
        "  for ind, top_k in enumerate(example):\n",
        "    if an_des_dict[str(example[ind])]['ancestors']==[]: # no ancestor\n",
        "      top5_ancestor.append(fill_empty_parent)\n",
        "    else:\n",
        "      top5_ancestor.append(an_des_dict[str(example[ind])]['ancestors'].copy()[0]) # avoid influence the root\n",
        "  A_all.append(top5_ancestor)\n",
        "\n",
        "\n",
        "# add ancestor to all candidate classes\n",
        "logits_ori_all = []\n",
        "for idx, unstable_case_ele in tqdm(enumerate(unstable_case)): # for each unstable image\n",
        "  # original word embedding\n",
        "  word_list_ori = np.array(clip.IMAGENET_CLASSES)[np.array(unstable_case_ele)].tolist()\n",
        "  word_list_hierarchy = [] # raw words with only [bottom up]\n",
        "  word_list_hierarchy_with_prompt = [] # words add prompt and ancestor [bottom up + top down]\n",
        "  wordid_list_hierarchy_list = [] # details of index [[1,2], [3,4,5], [6], [7,8], [9]]\n",
        "  wordid_list_hierarchy_mapping_list = [] # used for reduceat (index of first element for each top-5) [1,3,6,7,9]\n",
        "  i = 0 # tracking each class/child class\n",
        "  for word_id, word in enumerate(word_list_ori): # for each class in top 5\n",
        "    tempid_list = [] # for specific word in top5\n",
        "    wordid_list_hierarchy_mapping_list.append(i)\n",
        "    for child_id in class_an_des_mapping_list[unstable_case_ele[word_id]]: # for each children or element [Bottom-up]\n",
        "      raw_word = imagenet_classes_an_des[child_id-1]\n",
        "      word_list_hierarchy.append(raw_word) # child_id start from 1 not 0\n",
        "      word_list_hierarchy_with_prompt.append(raw_word + ' which is a kind of|' + A_all[idx][word_id]) # [Top-down]\n",
        "      # word_list_hierarchy_with_prompt.append(raw_word + ' which is a kind of' + A_all[idx][word_id]) # [Top-down]\n",
        "      tempid_list.append(i)\n",
        "      i+=1\n",
        "    wordid_list_hierarchy_list.append(tempid_list)\n",
        "  word_list = word_list_hierarchy_with_prompt # could change\n",
        "\n",
        "  # inference\n",
        "  word_weights_ori = zeroshot_classifier_hierarchy(word_list, ['{}']) # (512, 5) # do not use prompt ensemble\n",
        "  # word_weights_ori = zeroshot_classifier_hierarchy(word_list, clip.PROMPTS) # (512, 5)\n",
        "  img_embedding = diff_image_embeddings[idx] # (1, 512) single image\n",
        "  logits_ori_raw = np.matmul(img_embedding, word_weights_ori)\n",
        "  logits_ori_raw = logits_ori_raw[np.newaxis, :]\n",
        "  logits_ori = np.maximum.reduceat(logits_ori_raw, indices=wordid_list_hierarchy_mapping_list, axis=1)\n",
        "  logits_ori_all.append(logits_ori)\n",
        "logits_ori_all_array = np.array(logits_ori_all)[:, 0, :]\n",
        "\n",
        "# Manually computed accuracy\n",
        "unstable_top1_acc, unstable_top_probs, unstable_top_labels = compute_accuracy_rerank(logits_ori_all_array, unstable_case, unstable_case_label)\n",
        "\n",
        "\n",
        "# compute overall accuracy\n",
        "overall_acc = (acc_stable*100*len(stable_index) + unstable_top1_acc*len(unstable_index))/len(labels)\n",
        "\n",
        "print(\"acc_stable:\", acc_stable)\n",
        "print(\"acc_unstable_ori:\", acc_unstable_ori)\n",
        "print(\"acc_unstable_with_Hierarchy-CLIP:\", unstable_top1_acc)\n",
        "print(\"overall_acc_with_Hierarchy-CLIP:\", overall_acc)"
      ],
      "metadata": {
        "id": "q81hCYl6qA84"
      },
      "execution_count": null,
      "outputs": []
    },
    {
      "cell_type": "markdown",
      "source": [
        "### Descrete solution"
      ],
      "metadata": {
        "id": "kGfoKGzdH1V2"
      }
    },
    {
      "cell_type": "code",
      "source": [
        "# first half\n",
        "prompteng_firsthalf = zeroshot_classifier(clip.IMAGENET_CLASSES, clip.PROMPTS[0:40]) #select one each time\n",
        "logits_firsthalf = np.matmul(embeddings, prompteng_firsthalf) # compute the logits\n",
        "probs_firsthalf = np.array(jax.nn.softmax(logits_firsthalf, axis=-1))\n",
        "preds_firsthalf = jnp.argmax(probs_firsthalf, axis=-1)"
      ],
      "metadata": {
        "id": "ic7zHtNFH7i3"
      },
      "execution_count": null,
      "outputs": []
    },
    {
      "cell_type": "code",
      "source": [
        "# 2nd half\n",
        "prompteng_2ndhalf = zeroshot_classifier(clip.IMAGENET_CLASSES, clip.PROMPTS[40:80]) #select one each time\n",
        "logits_2ndhalf = np.matmul(embeddings, prompteng_2ndhalf) # compute the logits\n",
        "probs_2ndhalf = np.array(jax.nn.softmax(logits_2ndhalf, axis=-1))\n",
        "preds_2ndhalf = jnp.argmax(probs_2ndhalf, axis=-1)"
      ],
      "metadata": {
        "id": "luRWBbLgIFS_"
      },
      "execution_count": null,
      "outputs": []
    },
    {
      "cell_type": "code",
      "source": [
        "name_prediction=top5_name_labels[:, 0]\n",
        "prompt_prediction = top5_prompt_labels[:, 0]"
      ],
      "metadata": {
        "id": "oX2oPOrHWI7U"
      },
      "execution_count": null,
      "outputs": []
    },
    {
      "cell_type": "code",
      "source": [
        "prompts_log = np.stack((name_prediction, prompt_prediction, preds_firsthalf, preds_2ndhalf))"
      ],
      "metadata": {
        "id": "XF4YBUyGI51r"
      },
      "execution_count": null,
      "outputs": []
    },
    {
      "cell_type": "code",
      "source": [
        "stable_log = np.array([int(np.all(prompts_log[:, i] == prompts_log[:, i][0])) for i in tqdm(range(prompts_log.shape[-1]))])"
      ],
      "metadata": {
        "id": "71YFyLkVI9lg"
      },
      "execution_count": null,
      "outputs": []
    },
    {
      "cell_type": "code",
      "source": [
        "unstable_id = np.where(stable_log==0)"
      ],
      "metadata": {
        "id": "CIcB5DUbJDcA"
      },
      "execution_count": null,
      "outputs": []
    },
    {
      "cell_type": "code",
      "source": [
        "# discrete uncertatinty value calculation\n",
        "def discrete_uncertainty_estimation(prompts=clip.PROMPTS, name_prediction=top5_name_labels[:, 0], prompt_prediction=top5_prompt_labels[:, 0]):\n",
        "  \"\"\"obtain discrete confidence score for each image\"\"\"\n",
        "\n",
        "  # first half\n",
        "  prompteng_firsthalf = zeroshot_classifier(clip.IMAGENET_CLASSES, prompts[0:int(len(prompts)/2)]) #first half [0:40]\n",
        "  logits_firsthalf = np.matmul(embeddings, prompteng_firsthalf) # compute the logits\n",
        "  probs_firsthalf = np.array(jax.nn.softmax(logits_firsthalf, axis=-1))\n",
        "  preds_firsthalf = jnp.argmax(probs_firsthalf, axis=-1)\n",
        "\n",
        "  # 2nd half\n",
        "  prompteng_2ndhalf = zeroshot_classifier(clip.IMAGENET_CLASSES, prompts[int(len(prompts)/2):]) #second half [40:80]\n",
        "  logits_2ndhalf = np.matmul(embeddings, prompteng_2ndhalf) # compute the logits\n",
        "  probs_2ndhalf = np.array(jax.nn.softmax(logits_2ndhalf, axis=-1))\n",
        "  preds_2ndhalf = jnp.argmax(probs_2ndhalf, axis=-1)\n",
        "  \n",
        "  # consider all four different kinds of prompts\n",
        "  prompts_log = np.stack((name_prediction, prompt_prediction, preds_firsthalf, preds_2ndhalf))\n",
        "\n",
        "  consistency_log = np.array([int(np.all(prompts_log[:, i] == prompts_log[:, i][0])) for i in tqdm(range(prompts_log.shape[-1]))])\n",
        "\n",
        "  unstable_id = np.where(consistency_log==0)\n",
        "\n",
        "  return consistency_log, unstable_id"
      ],
      "metadata": {
        "id": "qjRuMMfSKwKy"
      },
      "execution_count": null,
      "outputs": []
    },
    {
      "cell_type": "code",
      "source": [
        "consistency_log, unstable_id = discrete_uncertainty_estimation()\n",
        "# Computed accuracy for the low confidence set len(unstable_id[0]) = 10308\n",
        "acc = np.mean(name_prediction[np.array(unstable_id)] == labels[unstable_id])\n",
        "acc"
      ],
      "metadata": {
        "id": "vV1TcGHQLrTW"
      },
      "execution_count": null,
      "outputs": []
    },
    {
      "cell_type": "code",
      "source": [],
      "metadata": {
        "id": "iDxEaXQTHy_S"
      },
      "execution_count": null,
      "outputs": []
    }
  ],
  "metadata": {
    "colab": {
      "private_outputs": true,
      "provenance": [],
      "toc_visible": true
    },
    "kernelspec": {
      "display_name": "Python 3",
      "name": "python3"
    }
  },
  "nbformat": 4,
  "nbformat_minor": 0
}